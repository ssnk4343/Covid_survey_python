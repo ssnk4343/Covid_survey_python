{
 "cells": [
  {
   "cell_type": "code",
   "execution_count": 1,
   "metadata": {},
   "outputs": [],
   "source": [
    "import pandas as pd\n",
    "import numpy as np\n",
    "import matplotlib.pyplot as plt"
   ]
  },
  {
   "cell_type": "code",
   "execution_count": 2,
   "metadata": {},
   "outputs": [],
   "source": [
    "df1 = pd.read_csv(\"data1.csv\")\n",
    "df2 = pd.read_csv(\"data2.csv\")\n",
    "df3 = pd.read_csv(\"data3.csv\")\n",
    "df4 = pd.read_csv(\"data4.csv\")\n",
    "df5 = pd.read_csv(\"data5.csv\")\n",
    "df6 = pd.read_csv(\"data6.csv\")\n",
    "df7 = pd.read_csv(\"data7.csv\")\n",
    "df8 = pd.read_csv(\"data8.csv\")\n",
    "df9 = pd.read_csv(\"data9.csv\")\n",
    "df10 = pd.read_csv(\"data10.csv\")\n",
    "df11 = pd.read_csv(\"data11.csv\")\n",
    "df12 = pd.read_csv(\"data12.csv\")"
   ]
  },
  {
   "cell_type": "code",
   "execution_count": 3,
   "metadata": {},
   "outputs": [],
   "source": [
    "df = df1.append([df2,df3,df4,df5,df6,df7,df8,df9])\n",
    "df['Age Bracket'].replace({'28-35':'31.5','5 Months':'5','6 Months':'6','5 months':'5', '9 Months':'9', '8 month':'8', \n",
    "       '1 DAY':'0', '9 Month':'9', '18-28':'23', '16':'0.5',np.nan:0,'16 DAYS':0.5},inplace=True)\n",
    "\n",
    "df = df[df['Age Bracket']!=0]"
   ]
  },
  {
   "cell_type": "code",
   "execution_count": 4,
   "metadata": {},
   "outputs": [
    {
     "data": {
      "text/html": [
       "<div>\n",
       "<style scoped>\n",
       "    .dataframe tbody tr th:only-of-type {\n",
       "        vertical-align: middle;\n",
       "    }\n",
       "\n",
       "    .dataframe tbody tr th {\n",
       "        vertical-align: top;\n",
       "    }\n",
       "\n",
       "    .dataframe thead th {\n",
       "        text-align: right;\n",
       "    }\n",
       "</style>\n",
       "<table border=\"1\" class=\"dataframe\">\n",
       "  <thead>\n",
       "    <tr style=\"text-align: right;\">\n",
       "      <th></th>\n",
       "      <th>State Patient Number</th>\n",
       "      <th>Date Announced</th>\n",
       "      <th>Estimated Onset Date</th>\n",
       "      <th>Age Bracket</th>\n",
       "      <th>Gender</th>\n",
       "      <th>Detected City</th>\n",
       "      <th>Detected District</th>\n",
       "      <th>Detected State</th>\n",
       "      <th>State code</th>\n",
       "      <th>Current Status</th>\n",
       "      <th>...</th>\n",
       "      <th>Contracted from which Patient (Suspected)</th>\n",
       "      <th>Nationality</th>\n",
       "      <th>Type of transmission</th>\n",
       "      <th>Status Change Date</th>\n",
       "      <th>Source_1</th>\n",
       "      <th>Source_2</th>\n",
       "      <th>Source_3</th>\n",
       "      <th>Backup Notes</th>\n",
       "      <th>Num Cases</th>\n",
       "      <th>Entry_ID</th>\n",
       "    </tr>\n",
       "    <tr>\n",
       "      <th>Patient Number</th>\n",
       "      <th></th>\n",
       "      <th></th>\n",
       "      <th></th>\n",
       "      <th></th>\n",
       "      <th></th>\n",
       "      <th></th>\n",
       "      <th></th>\n",
       "      <th></th>\n",
       "      <th></th>\n",
       "      <th></th>\n",
       "      <th></th>\n",
       "      <th></th>\n",
       "      <th></th>\n",
       "      <th></th>\n",
       "      <th></th>\n",
       "      <th></th>\n",
       "      <th></th>\n",
       "      <th></th>\n",
       "      <th></th>\n",
       "      <th></th>\n",
       "      <th></th>\n",
       "    </tr>\n",
       "  </thead>\n",
       "  <tbody>\n",
       "    <tr>\n",
       "      <th>1.0</th>\n",
       "      <td>KL-TS-P1</td>\n",
       "      <td>30/01/2020</td>\n",
       "      <td>NaN</td>\n",
       "      <td>20</td>\n",
       "      <td>F</td>\n",
       "      <td>Thrissur</td>\n",
       "      <td>Thrissur</td>\n",
       "      <td>Kerala</td>\n",
       "      <td>KL</td>\n",
       "      <td>Recovered</td>\n",
       "      <td>...</td>\n",
       "      <td>NaN</td>\n",
       "      <td>India</td>\n",
       "      <td>Imported</td>\n",
       "      <td>14/02/2020</td>\n",
       "      <td>https://twitter.com/vijayanpinarayi/status/122...</td>\n",
       "      <td>https://weather.com/en-IN/india/news/news/2020...</td>\n",
       "      <td>NaN</td>\n",
       "      <td>Student from Wuhan</td>\n",
       "      <td>1.0</td>\n",
       "      <td>NaN</td>\n",
       "    </tr>\n",
       "    <tr>\n",
       "      <th>4.0</th>\n",
       "      <td>DL-P1</td>\n",
       "      <td>02/03/2020</td>\n",
       "      <td>NaN</td>\n",
       "      <td>45</td>\n",
       "      <td>M</td>\n",
       "      <td>East Delhi (Mayur Vihar)</td>\n",
       "      <td>East Delhi</td>\n",
       "      <td>Delhi</td>\n",
       "      <td>DL</td>\n",
       "      <td>Recovered</td>\n",
       "      <td>...</td>\n",
       "      <td>NaN</td>\n",
       "      <td>India</td>\n",
       "      <td>Imported</td>\n",
       "      <td>15/03/2020</td>\n",
       "      <td>https://www.indiatoday.in/india/story/not-a-ja...</td>\n",
       "      <td>https://economictimes.indiatimes.com/news/poli...</td>\n",
       "      <td>NaN</td>\n",
       "      <td>Travel history to Italy and Austria</td>\n",
       "      <td>1.0</td>\n",
       "      <td>NaN</td>\n",
       "    </tr>\n",
       "    <tr>\n",
       "      <th>5.0</th>\n",
       "      <td>TS-P1</td>\n",
       "      <td>02/03/2020</td>\n",
       "      <td>NaN</td>\n",
       "      <td>24</td>\n",
       "      <td>M</td>\n",
       "      <td>Hyderabad</td>\n",
       "      <td>Hyderabad</td>\n",
       "      <td>Telangana</td>\n",
       "      <td>TG</td>\n",
       "      <td>Recovered</td>\n",
       "      <td>...</td>\n",
       "      <td>NaN</td>\n",
       "      <td>India</td>\n",
       "      <td>Imported</td>\n",
       "      <td>02/03/2020</td>\n",
       "      <td>https://www.deccanherald.com/national/south/qu...</td>\n",
       "      <td>https://www.indiatoday.in/india/story/coronavi...</td>\n",
       "      <td>https://www.thehindu.com/news/national/coronav...</td>\n",
       "      <td>Travel history to Dubai, Singapore contact</td>\n",
       "      <td>1.0</td>\n",
       "      <td>NaN</td>\n",
       "    </tr>\n",
       "    <tr>\n",
       "      <th>6.0</th>\n",
       "      <td>NaN</td>\n",
       "      <td>03/03/2020</td>\n",
       "      <td>NaN</td>\n",
       "      <td>69</td>\n",
       "      <td>M</td>\n",
       "      <td>Jaipur</td>\n",
       "      <td>Italians</td>\n",
       "      <td>Rajasthan</td>\n",
       "      <td>RJ</td>\n",
       "      <td>Recovered</td>\n",
       "      <td>...</td>\n",
       "      <td>NaN</td>\n",
       "      <td>Italy</td>\n",
       "      <td>Imported</td>\n",
       "      <td>03/03/2020</td>\n",
       "      <td>https://indianexpress.com/article/india/corona...</td>\n",
       "      <td>https://economictimes.indiatimes.com/news/poli...</td>\n",
       "      <td>https://twitter.com/PTI_News/status/1240878975...</td>\n",
       "      <td>Italian tourist</td>\n",
       "      <td>1.0</td>\n",
       "      <td>NaN</td>\n",
       "    </tr>\n",
       "    <tr>\n",
       "      <th>7.0</th>\n",
       "      <td>NaN</td>\n",
       "      <td>04/03/2020</td>\n",
       "      <td>NaN</td>\n",
       "      <td>55</td>\n",
       "      <td>NaN</td>\n",
       "      <td>Gurugram</td>\n",
       "      <td>Italians</td>\n",
       "      <td>Haryana</td>\n",
       "      <td>HR</td>\n",
       "      <td>Recovered</td>\n",
       "      <td>...</td>\n",
       "      <td>P6</td>\n",
       "      <td>Italy</td>\n",
       "      <td>Imported</td>\n",
       "      <td>29/03/2020</td>\n",
       "      <td>https://indianexpress.com/article/india/corona...</td>\n",
       "      <td>https://www.indiatoday.in/india/story/coronavi...</td>\n",
       "      <td>NaN</td>\n",
       "      <td>Italian tourist</td>\n",
       "      <td>1.0</td>\n",
       "      <td>NaN</td>\n",
       "    </tr>\n",
       "    <tr>\n",
       "      <th>...</th>\n",
       "      <td>...</td>\n",
       "      <td>...</td>\n",
       "      <td>...</td>\n",
       "      <td>...</td>\n",
       "      <td>...</td>\n",
       "      <td>...</td>\n",
       "      <td>...</td>\n",
       "      <td>...</td>\n",
       "      <td>...</td>\n",
       "      <td>...</td>\n",
       "      <td>...</td>\n",
       "      <td>...</td>\n",
       "      <td>...</td>\n",
       "      <td>...</td>\n",
       "      <td>...</td>\n",
       "      <td>...</td>\n",
       "      <td>...</td>\n",
       "      <td>...</td>\n",
       "      <td>...</td>\n",
       "      <td>...</td>\n",
       "      <td>...</td>\n",
       "    </tr>\n",
       "    <tr>\n",
       "      <th>NaN</th>\n",
       "      <td>NaN</td>\n",
       "      <td>13/07/2020</td>\n",
       "      <td>NaN</td>\n",
       "      <td>60</td>\n",
       "      <td>M</td>\n",
       "      <td>Vasco</td>\n",
       "      <td>South Goa</td>\n",
       "      <td>Goa</td>\n",
       "      <td>GA</td>\n",
       "      <td>Deceased</td>\n",
       "      <td>...</td>\n",
       "      <td>NaN</td>\n",
       "      <td>NaN</td>\n",
       "      <td>NaN</td>\n",
       "      <td>NaN</td>\n",
       "      <td>https://twitter.com/DHS_Goa/status/12827087390...</td>\n",
       "      <td>NaN</td>\n",
       "      <td>NaN</td>\n",
       "      <td>NaN</td>\n",
       "      <td>1.0</td>\n",
       "      <td>144312.0</td>\n",
       "    </tr>\n",
       "    <tr>\n",
       "      <th>NaN</th>\n",
       "      <td>NaN</td>\n",
       "      <td>13/07/2020</td>\n",
       "      <td>NaN</td>\n",
       "      <td>58</td>\n",
       "      <td>M</td>\n",
       "      <td>Chicalim</td>\n",
       "      <td>South Goa</td>\n",
       "      <td>Goa</td>\n",
       "      <td>GA</td>\n",
       "      <td>Deceased</td>\n",
       "      <td>...</td>\n",
       "      <td>NaN</td>\n",
       "      <td>NaN</td>\n",
       "      <td>NaN</td>\n",
       "      <td>NaN</td>\n",
       "      <td>https://twitter.com/DHS_Goa/status/12827087390...</td>\n",
       "      <td>NaN</td>\n",
       "      <td>NaN</td>\n",
       "      <td>NaN</td>\n",
       "      <td>1.0</td>\n",
       "      <td>144313.0</td>\n",
       "    </tr>\n",
       "    <tr>\n",
       "      <th>NaN</th>\n",
       "      <td>NaN</td>\n",
       "      <td>13/07/2020</td>\n",
       "      <td>NaN</td>\n",
       "      <td>12</td>\n",
       "      <td>M</td>\n",
       "      <td>NaN</td>\n",
       "      <td>Aizawl</td>\n",
       "      <td>Mizoram</td>\n",
       "      <td>MZ</td>\n",
       "      <td>Hospitalized</td>\n",
       "      <td>...</td>\n",
       "      <td>NaN</td>\n",
       "      <td>NaN</td>\n",
       "      <td>NaN</td>\n",
       "      <td>NaN</td>\n",
       "      <td>https://twitter.com/dipr_mizoram/status/128272...</td>\n",
       "      <td>NaN</td>\n",
       "      <td>NaN</td>\n",
       "      <td>NaN</td>\n",
       "      <td>1.0</td>\n",
       "      <td>144388.0</td>\n",
       "    </tr>\n",
       "    <tr>\n",
       "      <th>NaN</th>\n",
       "      <td>NaN</td>\n",
       "      <td>13/07/2020</td>\n",
       "      <td>NaN</td>\n",
       "      <td>29</td>\n",
       "      <td>M</td>\n",
       "      <td>NaN</td>\n",
       "      <td>Aizawl</td>\n",
       "      <td>Mizoram</td>\n",
       "      <td>MZ</td>\n",
       "      <td>Hospitalized</td>\n",
       "      <td>...</td>\n",
       "      <td>NaN</td>\n",
       "      <td>NaN</td>\n",
       "      <td>NaN</td>\n",
       "      <td>NaN</td>\n",
       "      <td>https://twitter.com/dipr_mizoram/status/128272...</td>\n",
       "      <td>NaN</td>\n",
       "      <td>NaN</td>\n",
       "      <td>NaN</td>\n",
       "      <td>1.0</td>\n",
       "      <td>144389.0</td>\n",
       "    </tr>\n",
       "    <tr>\n",
       "      <th>NaN</th>\n",
       "      <td>NaN</td>\n",
       "      <td>13/07/2020</td>\n",
       "      <td>NaN</td>\n",
       "      <td>32</td>\n",
       "      <td>M</td>\n",
       "      <td>NaN</td>\n",
       "      <td>Papum Pare</td>\n",
       "      <td>Arunachal Pradesh</td>\n",
       "      <td>AR</td>\n",
       "      <td>Deceased</td>\n",
       "      <td>...</td>\n",
       "      <td>NaN</td>\n",
       "      <td>NaN</td>\n",
       "      <td>NaN</td>\n",
       "      <td>NaN</td>\n",
       "      <td>https://twitter.com/ArunachalDIPR/status/12827...</td>\n",
       "      <td>NaN</td>\n",
       "      <td>NaN</td>\n",
       "      <td>NaN</td>\n",
       "      <td>1.0</td>\n",
       "      <td>144529.0</td>\n",
       "    </tr>\n",
       "  </tbody>\n",
       "</table>\n",
       "<p>75317 rows × 21 columns</p>\n",
       "</div>"
      ],
      "text/plain": [
       "               State Patient Number Date Announced  Estimated Onset Date  \\\n",
       "Patient Number                                                             \n",
       "1.0                        KL-TS-P1     30/01/2020                   NaN   \n",
       "4.0                           DL-P1     02/03/2020                   NaN   \n",
       "5.0                           TS-P1     02/03/2020                   NaN   \n",
       "6.0                             NaN     03/03/2020                   NaN   \n",
       "7.0                             NaN     04/03/2020                   NaN   \n",
       "...                             ...            ...                   ...   \n",
       "NaN                             NaN     13/07/2020                   NaN   \n",
       "NaN                             NaN     13/07/2020                   NaN   \n",
       "NaN                             NaN     13/07/2020                   NaN   \n",
       "NaN                             NaN     13/07/2020                   NaN   \n",
       "NaN                             NaN     13/07/2020                   NaN   \n",
       "\n",
       "               Age Bracket Gender             Detected City Detected District  \\\n",
       "Patient Number                                                                  \n",
       "1.0                     20      F                  Thrissur          Thrissur   \n",
       "4.0                     45      M  East Delhi (Mayur Vihar)        East Delhi   \n",
       "5.0                     24      M                 Hyderabad         Hyderabad   \n",
       "6.0                     69      M                    Jaipur          Italians   \n",
       "7.0                     55    NaN                  Gurugram          Italians   \n",
       "...                    ...    ...                       ...               ...   \n",
       "NaN                     60      M                     Vasco         South Goa   \n",
       "NaN                     58      M                  Chicalim         South Goa   \n",
       "NaN                     12      M                       NaN            Aizawl   \n",
       "NaN                     29      M                       NaN            Aizawl   \n",
       "NaN                     32      M                       NaN        Papum Pare   \n",
       "\n",
       "                   Detected State State code Current Status  ...  \\\n",
       "Patient Number                                               ...   \n",
       "1.0                        Kerala         KL      Recovered  ...   \n",
       "4.0                         Delhi         DL      Recovered  ...   \n",
       "5.0                     Telangana         TG      Recovered  ...   \n",
       "6.0                     Rajasthan         RJ      Recovered  ...   \n",
       "7.0                       Haryana         HR      Recovered  ...   \n",
       "...                           ...        ...            ...  ...   \n",
       "NaN                           Goa         GA       Deceased  ...   \n",
       "NaN                           Goa         GA       Deceased  ...   \n",
       "NaN                       Mizoram         MZ   Hospitalized  ...   \n",
       "NaN                       Mizoram         MZ   Hospitalized  ...   \n",
       "NaN             Arunachal Pradesh         AR       Deceased  ...   \n",
       "\n",
       "               Contracted from which Patient (Suspected) Nationality  \\\n",
       "Patient Number                                                         \n",
       "1.0                                                  NaN       India   \n",
       "4.0                                                  NaN       India   \n",
       "5.0                                                  NaN       India   \n",
       "6.0                                                  NaN       Italy   \n",
       "7.0                                                   P6       Italy   \n",
       "...                                                  ...         ...   \n",
       "NaN                                                  NaN         NaN   \n",
       "NaN                                                  NaN         NaN   \n",
       "NaN                                                  NaN         NaN   \n",
       "NaN                                                  NaN         NaN   \n",
       "NaN                                                  NaN         NaN   \n",
       "\n",
       "               Type of transmission Status Change Date  \\\n",
       "Patient Number                                           \n",
       "1.0                        Imported         14/02/2020   \n",
       "4.0                        Imported         15/03/2020   \n",
       "5.0                        Imported         02/03/2020   \n",
       "6.0                        Imported         03/03/2020   \n",
       "7.0                        Imported         29/03/2020   \n",
       "...                             ...                ...   \n",
       "NaN                             NaN                NaN   \n",
       "NaN                             NaN                NaN   \n",
       "NaN                             NaN                NaN   \n",
       "NaN                             NaN                NaN   \n",
       "NaN                             NaN                NaN   \n",
       "\n",
       "                                                         Source_1  \\\n",
       "Patient Number                                                      \n",
       "1.0             https://twitter.com/vijayanpinarayi/status/122...   \n",
       "4.0             https://www.indiatoday.in/india/story/not-a-ja...   \n",
       "5.0             https://www.deccanherald.com/national/south/qu...   \n",
       "6.0             https://indianexpress.com/article/india/corona...   \n",
       "7.0             https://indianexpress.com/article/india/corona...   \n",
       "...                                                           ...   \n",
       "NaN             https://twitter.com/DHS_Goa/status/12827087390...   \n",
       "NaN             https://twitter.com/DHS_Goa/status/12827087390...   \n",
       "NaN             https://twitter.com/dipr_mizoram/status/128272...   \n",
       "NaN             https://twitter.com/dipr_mizoram/status/128272...   \n",
       "NaN             https://twitter.com/ArunachalDIPR/status/12827...   \n",
       "\n",
       "                                                         Source_2  \\\n",
       "Patient Number                                                      \n",
       "1.0             https://weather.com/en-IN/india/news/news/2020...   \n",
       "4.0             https://economictimes.indiatimes.com/news/poli...   \n",
       "5.0             https://www.indiatoday.in/india/story/coronavi...   \n",
       "6.0             https://economictimes.indiatimes.com/news/poli...   \n",
       "7.0             https://www.indiatoday.in/india/story/coronavi...   \n",
       "...                                                           ...   \n",
       "NaN                                                           NaN   \n",
       "NaN                                                           NaN   \n",
       "NaN                                                           NaN   \n",
       "NaN                                                           NaN   \n",
       "NaN                                                           NaN   \n",
       "\n",
       "                                                         Source_3  \\\n",
       "Patient Number                                                      \n",
       "1.0                                                           NaN   \n",
       "4.0                                                           NaN   \n",
       "5.0             https://www.thehindu.com/news/national/coronav...   \n",
       "6.0             https://twitter.com/PTI_News/status/1240878975...   \n",
       "7.0                                                           NaN   \n",
       "...                                                           ...   \n",
       "NaN                                                           NaN   \n",
       "NaN                                                           NaN   \n",
       "NaN                                                           NaN   \n",
       "NaN                                                           NaN   \n",
       "NaN                                                           NaN   \n",
       "\n",
       "                                              Backup Notes Num Cases  Entry_ID  \n",
       "Patient Number                                                                  \n",
       "1.0                                     Student from Wuhan       1.0       NaN  \n",
       "4.0                    Travel history to Italy and Austria       1.0       NaN  \n",
       "5.0             Travel history to Dubai, Singapore contact       1.0       NaN  \n",
       "6.0                                        Italian tourist       1.0       NaN  \n",
       "7.0                                        Italian tourist       1.0       NaN  \n",
       "...                                                    ...       ...       ...  \n",
       "NaN                                                    NaN       1.0  144312.0  \n",
       "NaN                                                    NaN       1.0  144313.0  \n",
       "NaN                                                    NaN       1.0  144388.0  \n",
       "NaN                                                    NaN       1.0  144389.0  \n",
       "NaN                                                    NaN       1.0  144529.0  \n",
       "\n",
       "[75317 rows x 21 columns]"
      ]
     },
     "execution_count": 4,
     "metadata": {},
     "output_type": "execute_result"
    }
   ],
   "source": [
    "df.set_index(\"Patient Number\")"
   ]
  },
  {
   "cell_type": "code",
   "execution_count": 5,
   "metadata": {},
   "outputs": [
    {
     "data": {
      "text/plain": [
       "Estimated Onset Date                         75317\n",
       "Source_3                                     75167\n",
       "Backup Notes                                 75115\n",
       "Nationality                                  74461\n",
       "Contracted from which Patient (Suspected)    74337\n",
       "Source_2                                     74239\n",
       "Type of transmission                         74166\n",
       "Status Change Date                           72973\n",
       "Detected City                                65712\n",
       "Patient Number                               37527\n",
       "Notes                                        31212\n",
       "State Patient Number                         25330\n",
       "Entry_ID                                      2346\n",
       "Source_1                                      1250\n",
       "Gender                                         723\n",
       "Detected District                               36\n",
       "Detected State                                   0\n",
       "State code                                       0\n",
       "Age Bracket                                      0\n",
       "Num Cases                                        0\n",
       "Date Announced                                   0\n",
       "Current Status                                   0\n",
       "dtype: int64"
      ]
     },
     "execution_count": 5,
     "metadata": {},
     "output_type": "execute_result"
    }
   ],
   "source": [
    "df.isnull().sum().sort_values(ascending = False)"
   ]
  },
  {
   "cell_type": "code",
   "execution_count": 6,
   "metadata": {},
   "outputs": [
    {
     "data": {
      "text/plain": [
       "Current Status\n",
       "Hospitalized    11\n",
       "Deceased         3\n",
       "Recovered        1\n",
       "Name: Current Status, dtype: int64"
      ]
     },
     "execution_count": 6,
     "metadata": {},
     "output_type": "execute_result"
    }
   ],
   "source": [
    "Cur = df.groupby('Detected State')['Current Status'].value_counts().loc['Delhi']\n",
    "Cur\n"
   ]
  },
  {
   "cell_type": "code",
   "execution_count": 7,
   "metadata": {},
   "outputs": [
    {
     "data": {
      "text/plain": [
       "Text(0.5, 1.0, 'Current status')"
      ]
     },
     "execution_count": 7,
     "metadata": {},
     "output_type": "execute_result"
    },
    {
     "data": {
      "image/png": "[encoded data removed]",
      "text/plain": [
       "<Figure size 792x792 with 1 Axes>"
      ]
     },
     "metadata": {},
     "output_type": "display_data"
    }
   ],
   "source": [
    "Cur.plot.pie(figsize = (11,11),shadow=True,explode=[0,0.17,0])\n",
    "plt.title(\"Current status\", loc = 'center')"
   ]
  },
  {
   "cell_type": "code",
   "execution_count": 8,
   "metadata": {
    "scrolled": true
   },
   "outputs": [
    {
     "data": {
      "text/plain": [
       "Detected State               Type of transmission\n",
       "Andaman and Nicobar Islands  Local                    3\n",
       "Andhra Pradesh               Local                   74\n",
       "                             Imported                10\n",
       "Bihar                        Local                   14\n",
       "                             Imported                12\n",
       "                                                     ..\n",
       "Uttarakhand                  Imported                 2\n",
       "                             TBD                      2\n",
       "West Bengal                  Local                   15\n",
       "                             Imported                 6\n",
       "                             TBD                      5\n",
       "Name: Type of transmission, Length: 66, dtype: int64"
      ]
     },
     "execution_count": 8,
     "metadata": {},
     "output_type": "execute_result"
    }
   ],
   "source": [
    "df.groupby('Detected State')['Type of transmission'].value_counts()"
   ]
  },
  {
   "cell_type": "code",
   "execution_count": null,
   "metadata": {},
   "outputs": [],
   "source": []
  },
  {
   "cell_type": "code",
   "execution_count": 54,
   "metadata": {},
   "outputs": [
    {
     "data": {
      "text/plain": [
       "74166"
      ]
     },
     "execution_count": 54,
     "metadata": {},
     "output_type": "execute_result"
    }
   ],
   "source": [
    "df['Type of transmission']"
   ]
  },
  {
   "cell_type": "code",
   "execution_count": 58,
   "metadata": {},
   "outputs": [
    {
     "ename": "SyntaxError",
     "evalue": "invalid syntax (<ipython-input-58-3b414623f7e3>, line 1)",
     "output_type": "error",
     "traceback": [
      "\u001b[0;36m  File \u001b[0;32m\"<ipython-input-58-3b414623f7e3>\"\u001b[0;36m, line \u001b[0;32m1\u001b[0m\n\u001b[0;31m    tran = df['Type of transmission'].value_counts(), labels = ['Local','TBD',\"Imported\",\"\",\"\"])\u001b[0m\n\u001b[0m                                                                                               ^\u001b[0m\n\u001b[0;31mSyntaxError\u001b[0m\u001b[0;31m:\u001b[0m invalid syntax\n"
     ]
    }
   ],
   "source": [
    " tran = df['Type of transmission'].value_counts(), labels = ['Local','TBD',\"Imported\",\"\",\"\"])"
   ]
  },
  {
   "cell_type": "code",
   "execution_count": null,
   "metadata": {},
   "outputs": [],
   "source": []
  },
  {
   "cell_type": "code",
   "execution_count": 59,
   "metadata": {},
   "outputs": [
    {
     "data": {
      "image/png": "[encoded data removed]",
      "text/plain": [
       "<Figure size 1440x720 with 1 Axes>"
      ]
     },
     "metadata": {
      "needs_background": "light"
     },
     "output_type": "display_data"
    }
   ],
   "source": [
    "df1 = df.groupby('Detected State')['Num Cases'].sum().sort_values(ascending=False).head(15).sort_values()\n",
    "df1.plot.bar(figsize = (20,10),color = 'y')\n",
    "df1.plot.line()\n",
    "plt.show()"
   ]
  },
  {
   "cell_type": "code",
   "execution_count": null,
   "metadata": {},
   "outputs": [],
   "source": []
  },
  {
   "cell_type": "code",
   "execution_count": 12,
   "metadata": {},
   "outputs": [
    {
     "data": {
      "text/plain": [
       "Gender\n",
       "F             25115.0\n",
       "M             49429.0\n",
       "M                 1.0\n",
       "Non-Binary       13.0\n",
       "Name: Num Cases, dtype: float64"
      ]
     },
     "execution_count": 12,
     "metadata": {},
     "output_type": "execute_result"
    }
   ],
   "source": [
    "a = df.groupby('Gender')['Num Cases'].sum()\n",
    "a"
   ]
  },
  {
   "cell_type": "code",
   "execution_count": 13,
   "metadata": {},
   "outputs": [
    {
     "data": {
      "text/plain": [
       "<matplotlib.axes._subplots.AxesSubplot at 0x11e5d0550>"
      ]
     },
     "execution_count": 13,
     "metadata": {},
     "output_type": "execute_result"
    },
    {
     "data": {
      "image/png": "[encoded data removed]",
      "text/plain": [
       "<Figure size 576x576 with 1 Axes>"
      ]
     },
     "metadata": {},
     "output_type": "display_data"
    }
   ],
   "source": [
    "a = df.groupby('Gender')['Num Cases'].sum()\n",
    "a.plot.pie(figsize=(8,8),explode = [0,0.2,0,0])"
   ]
  },
  {
   "cell_type": "code",
   "execution_count": 14,
   "metadata": {},
   "outputs": [
    {
     "data": {
      "text/plain": [
       "Estimated Onset Date                         100.000000\n",
       "Source_3                                      99.800842\n",
       "Backup Notes                                  99.731800\n",
       "Nationality                                   98.863470\n",
       "Contracted from which Patient (Suspected)     98.698833\n",
       "Source_2                                      98.568716\n",
       "Type of transmission                          98.471793\n",
       "Status Change Date                            96.887821\n",
       "Detected City                                 87.247235\n",
       "Patient Number                                49.825405\n",
       "Notes                                         41.440843\n",
       "State Patient Number                          33.631186\n",
       "Entry_ID                                       3.114835\n",
       "Source_1                                       1.659652\n",
       "Gender                                         0.959943\n",
       "Detected District                              0.047798\n",
       "Detected State                                 0.000000\n",
       "State code                                     0.000000\n",
       "Age Bracket                                    0.000000\n",
       "Num Cases                                      0.000000\n",
       "Date Announced                                 0.000000\n",
       "Current Status                                 0.000000\n",
       "dtype: float64"
      ]
     },
     "execution_count": 14,
     "metadata": {},
     "output_type": "execute_result"
    }
   ],
   "source": [
    "df.isnull().sum().sort_values(ascending = False)/len(df)*100 #counting percentage of null value in each column"
   ]
  },
  {
   "cell_type": "code",
   "execution_count": 15,
   "metadata": {},
   "outputs": [
    {
     "name": "stdout",
     "output_type": "stream",
     "text": [
      "<class 'pandas.core.frame.DataFrame'>\n",
      "Int64Index: 75317 entries, 0 to 26839\n",
      "Data columns (total 22 columns):\n",
      " #   Column                                     Non-Null Count  Dtype  \n",
      "---  ------                                     --------------  -----  \n",
      " 0   Patient Number                             37790 non-null  float64\n",
      " 1   State Patient Number                       49987 non-null  object \n",
      " 2   Date Announced                             75317 non-null  object \n",
      " 3   Estimated Onset Date                       0 non-null      float64\n",
      " 4   Age Bracket                                75317 non-null  object \n",
      " 5   Gender                                     74594 non-null  object \n",
      " 6   Detected City                              9605 non-null   object \n",
      " 7   Detected District                          75281 non-null  object \n",
      " 8   Detected State                             75317 non-null  object \n",
      " 9   State code                                 75317 non-null  object \n",
      " 10  Current Status                             75317 non-null  object \n",
      " 11  Notes                                      44105 non-null  object \n",
      " 12  Contracted from which Patient (Suspected)  980 non-null    object \n",
      " 13  Nationality                                856 non-null    object \n",
      " 14  Type of transmission                       1151 non-null   object \n",
      " 15  Status Change Date                         2344 non-null   object \n",
      " 16  Source_1                                   74067 non-null  object \n",
      " 17  Source_2                                   1078 non-null   object \n",
      " 18  Source_3                                   150 non-null    object \n",
      " 19  Backup Notes                               202 non-null    object \n",
      " 20  Num Cases                                  75317 non-null  float64\n",
      " 21  Entry_ID                                   72971 non-null  float64\n",
      "dtypes: float64(4), object(18)\n",
      "memory usage: 13.2+ MB\n"
     ]
    }
   ],
   "source": [
    "df.info()"
   ]
  },
  {
   "cell_type": "code",
   "execution_count": 16,
   "metadata": {},
   "outputs": [
    {
     "data": {
      "text/plain": [
       "<matplotlib.axes._subplots.AxesSubplot at 0x118d44990>"
      ]
     },
     "execution_count": 16,
     "metadata": {},
     "output_type": "execute_result"
    },
    {
     "data": {
      "image/png": "[encoded data removed]",
      "text/plain": [
       "<Figure size 1080x576 with 1 Axes>"
      ]
     },
     "metadata": {
      "needs_background": "light"
     },
     "output_type": "display_data"
    }
   ],
   "source": [
    "age = df.groupby('Age Bracket')['Num Cases'].sum().sort_values(ascending =False).nlargest(15)\n",
    "age.plot.barh(figsize= (15,8),color = 'm')"
   ]
  },
  {
   "cell_type": "code",
   "execution_count": 17,
   "metadata": {},
   "outputs": [],
   "source": [
    "#Agenda x- axis : Months, # stack of recoveries, death and hospitalisation, No of cases Age Bracket, Num Cases, \n",
    "#Current Status Deceased .nlargest(15).sort_values(ascending= False)"
   ]
  },
  {
   "cell_type": "code",
   "execution_count": 18,
   "metadata": {},
   "outputs": [],
   "source": [
    "Age = df[df['Age Bracket'].notnull()]\n",
    "New_Age =(Age['Age Bracket'].unique().astype('str'))\n"
   ]
  },
  {
   "cell_type": "code",
   "execution_count": 19,
   "metadata": {
    "scrolled": true
   },
   "outputs": [],
   "source": [
    "Rec = df[df['Current Status']=='Recovered'].groupby(['Age Bracket'])['Current Status'].value_counts().nlargest(10)\n",
    "Rec\n",
    "Age_Rec = df[df['Current Status']=='Recovered']['Age Bracket']"
   ]
  },
  {
   "cell_type": "code",
   "execution_count": 20,
   "metadata": {},
   "outputs": [],
   "source": [
    "Hos = df[df['Current Status']=='Hospitalized'].groupby(['Age Bracket'])['Current Status'].value_counts()\n",
    "\n",
    "Age_Hos = df[df['Current Status']=='Hospitalized']['Age Bracket']"
   ]
  },
  {
   "cell_type": "code",
   "execution_count": 21,
   "metadata": {},
   "outputs": [
    {
     "data": {
      "text/plain": [
       "72       69\n",
       "76       65\n",
       "81       76\n",
       "181      70\n",
       "269      63\n",
       "         ..\n",
       "26601    56\n",
       "26651    47\n",
       "26652    60\n",
       "26653    58\n",
       "26839    32\n",
       "Name: Age Bracket, Length: 1367, dtype: object"
      ]
     },
     "execution_count": 21,
     "metadata": {},
     "output_type": "execute_result"
    }
   ],
   "source": [
    "Dec = df[df['Current Status']=='Deceased'].groupby(['Age Bracket'])['Current Status'].value_counts()\n",
    "                                                                                                            \n",
    "Age_Dec = df[df['Current Status']=='Deceased']['Age Bracket']\n",
    "Age_Dec"
   ]
  },
  {
   "cell_type": "code",
   "execution_count": 22,
   "metadata": {},
   "outputs": [],
   "source": [
    "Age_Rec = Age_Rec.append([Age_Hos,Age_Dec]).unique()\n"
   ]
  },
  {
   "cell_type": "code",
   "execution_count": null,
   "metadata": {},
   "outputs": [],
   "source": [
    "\n"
   ]
  },
  {
   "cell_type": "code",
   "execution_count": 25,
   "metadata": {},
   "outputs": [
    {
     "data": {
      "text/plain": [
       "(75317, 22)"
      ]
     },
     "execution_count": 25,
     "metadata": {},
     "output_type": "execute_result"
    }
   ],
   "source": [
    "df.shape"
   ]
  },
  {
   "cell_type": "code",
   "execution_count": 26,
   "metadata": {},
   "outputs": [
    {
     "data": {
      "text/plain": [
       "Index(['Patient Number', 'State Patient Number', 'Date Announced',\n",
       "       'Estimated Onset Date', 'Age Bracket', 'Gender', 'Detected City',\n",
       "       'Detected District', 'Detected State', 'State code', 'Current Status',\n",
       "       'Notes', 'Contracted from which Patient (Suspected)', 'Nationality',\n",
       "       'Type of transmission', 'Status Change Date', 'Source_1', 'Source_2',\n",
       "       'Source_3', 'Backup Notes', 'Num Cases', 'Entry_ID'],\n",
       "      dtype='object')"
      ]
     },
     "execution_count": 26,
     "metadata": {},
     "output_type": "execute_result"
    }
   ],
   "source": [
    "df.columns"
   ]
  },
  {
   "cell_type": "code",
   "execution_count": 27,
   "metadata": {},
   "outputs": [],
   "source": [
    "df_n =df['Date Announced'].str.split('/', expand =True)"
   ]
  },
  {
   "cell_type": "code",
   "execution_count": 28,
   "metadata": {},
   "outputs": [],
   "source": [
    "df_n.columns= ['Date','Month','Year']"
   ]
  },
  {
   "cell_type": "code",
   "execution_count": 29,
   "metadata": {},
   "outputs": [
    {
     "data": {
      "text/plain": [
       "Date     0\n",
       "Month    0\n",
       "Year     0\n",
       "dtype: int64"
      ]
     },
     "execution_count": 29,
     "metadata": {},
     "output_type": "execute_result"
    }
   ],
   "source": [
    "df_n.isnull().sum()"
   ]
  },
  {
   "cell_type": "code",
   "execution_count": 30,
   "metadata": {},
   "outputs": [],
   "source": [
    "df = pd.concat([df,df_n],axis=1)\n"
   ]
  },
  {
   "cell_type": "code",
   "execution_count": 31,
   "metadata": {},
   "outputs": [
    {
     "data": {
      "text/plain": [
       "0"
      ]
     },
     "execution_count": 31,
     "metadata": {},
     "output_type": "execute_result"
    }
   ],
   "source": [
    "df['Date'].isnull().sum()"
   ]
  },
  {
   "cell_type": "code",
   "execution_count": 32,
   "metadata": {},
   "outputs": [
    {
     "data": {
      "text/html": [
       "<div>\n",
       "<style scoped>\n",
       "    .dataframe tbody tr th:only-of-type {\n",
       "        vertical-align: middle;\n",
       "    }\n",
       "\n",
       "    .dataframe tbody tr th {\n",
       "        vertical-align: top;\n",
       "    }\n",
       "\n",
       "    .dataframe thead th {\n",
       "        text-align: right;\n",
       "    }\n",
       "</style>\n",
       "<table border=\"1\" class=\"dataframe\">\n",
       "  <thead>\n",
       "    <tr style=\"text-align: right;\">\n",
       "      <th></th>\n",
       "      <th>Date</th>\n",
       "      <th>Month</th>\n",
       "      <th>Year</th>\n",
       "    </tr>\n",
       "  </thead>\n",
       "  <tbody>\n",
       "    <tr>\n",
       "      <th>0</th>\n",
       "      <td>30</td>\n",
       "      <td>01</td>\n",
       "      <td>2020</td>\n",
       "    </tr>\n",
       "    <tr>\n",
       "      <th>3</th>\n",
       "      <td>02</td>\n",
       "      <td>03</td>\n",
       "      <td>2020</td>\n",
       "    </tr>\n",
       "    <tr>\n",
       "      <th>4</th>\n",
       "      <td>02</td>\n",
       "      <td>03</td>\n",
       "      <td>2020</td>\n",
       "    </tr>\n",
       "    <tr>\n",
       "      <th>5</th>\n",
       "      <td>03</td>\n",
       "      <td>03</td>\n",
       "      <td>2020</td>\n",
       "    </tr>\n",
       "    <tr>\n",
       "      <th>6</th>\n",
       "      <td>04</td>\n",
       "      <td>03</td>\n",
       "      <td>2020</td>\n",
       "    </tr>\n",
       "    <tr>\n",
       "      <th>...</th>\n",
       "      <td>...</td>\n",
       "      <td>...</td>\n",
       "      <td>...</td>\n",
       "    </tr>\n",
       "    <tr>\n",
       "      <th>26652</th>\n",
       "      <td>13</td>\n",
       "      <td>07</td>\n",
       "      <td>2020</td>\n",
       "    </tr>\n",
       "    <tr>\n",
       "      <th>26653</th>\n",
       "      <td>13</td>\n",
       "      <td>07</td>\n",
       "      <td>2020</td>\n",
       "    </tr>\n",
       "    <tr>\n",
       "      <th>26727</th>\n",
       "      <td>13</td>\n",
       "      <td>07</td>\n",
       "      <td>2020</td>\n",
       "    </tr>\n",
       "    <tr>\n",
       "      <th>26728</th>\n",
       "      <td>13</td>\n",
       "      <td>07</td>\n",
       "      <td>2020</td>\n",
       "    </tr>\n",
       "    <tr>\n",
       "      <th>26839</th>\n",
       "      <td>13</td>\n",
       "      <td>07</td>\n",
       "      <td>2020</td>\n",
       "    </tr>\n",
       "  </tbody>\n",
       "</table>\n",
       "<p>75317 rows × 3 columns</p>\n",
       "</div>"
      ],
      "text/plain": [
       "      Date Month  Year\n",
       "0       30    01  2020\n",
       "3       02    03  2020\n",
       "4       02    03  2020\n",
       "5       03    03  2020\n",
       "6       04    03  2020\n",
       "...    ...   ...   ...\n",
       "26652   13    07  2020\n",
       "26653   13    07  2020\n",
       "26727   13    07  2020\n",
       "26728   13    07  2020\n",
       "26839   13    07  2020\n",
       "\n",
       "[75317 rows x 3 columns]"
      ]
     },
     "execution_count": 32,
     "metadata": {},
     "output_type": "execute_result"
    }
   ],
   "source": [
    "df_n"
   ]
  },
  {
   "cell_type": "code",
   "execution_count": null,
   "metadata": {},
   "outputs": [],
   "source": []
  },
  {
   "cell_type": "code",
   "execution_count": 56,
   "metadata": {},
   "outputs": [],
   "source": [
    "filt = df['Date']!= np.nan"
   ]
  },
  {
   "cell_type": "code",
   "execution_count": 37,
   "metadata": {},
   "outputs": [],
   "source": [
    "month_cases = df.groupby(['Month','Date'])['Num Cases'].sum()"
   ]
  },
  {
   "cell_type": "code",
   "execution_count": 38,
   "metadata": {},
   "outputs": [
    {
     "data": {
      "text/plain": [
       "Month  Date\n",
       "01     30         1.0\n",
       "03     02         2.0\n",
       "       03         1.0\n",
       "       04        17.0\n",
       "       05         2.0\n",
       "                ...  \n",
       "07     09      2270.0\n",
       "       10      2402.0\n",
       "       11      2898.0\n",
       "       12      2724.0\n",
       "       13      2867.0\n",
       "Name: Num Cases, Length: 134, dtype: float64"
      ]
     },
     "execution_count": 38,
     "metadata": {},
     "output_type": "execute_result"
    }
   ],
   "source": [
    "month_cases"
   ]
  },
  {
   "cell_type": "code",
   "execution_count": 52,
   "metadata": {},
   "outputs": [
    {
     "data": {
      "image/png": "[encoded data removed]",
      "text/plain": [
       "<Figure size 720x720 with 6 Axes>"
      ]
     },
     "metadata": {
      "needs_background": "light"
     },
     "output_type": "display_data"
    }
   ],
   "source": [
    "lab =(['Jan','Mar','April','may','June','July'])\n",
    "month_cases.unstack(level=0).plot(kind='bar',subplots =True,figsize=(10,10), label = lab)\n",
    "plt.legend()\n",
    "plt.show()"
   ]
  },
  {
   "cell_type": "code",
   "execution_count": 57,
   "metadata": {},
   "outputs": [
    {
     "data": {
      "text/html": [
       "<div>\n",
       "<style scoped>\n",
       "    .dataframe tbody tr th:only-of-type {\n",
       "        vertical-align: middle;\n",
       "    }\n",
       "\n",
       "    .dataframe tbody tr th {\n",
       "        vertical-align: top;\n",
       "    }\n",
       "\n",
       "    .dataframe thead th {\n",
       "        text-align: right;\n",
       "    }\n",
       "</style>\n",
       "<table border=\"1\" class=\"dataframe\">\n",
       "  <thead>\n",
       "    <tr style=\"text-align: right;\">\n",
       "      <th></th>\n",
       "      <th>Patient Number</th>\n",
       "      <th>State Patient Number</th>\n",
       "      <th>Date Announced</th>\n",
       "      <th>Estimated Onset Date</th>\n",
       "      <th>Age Bracket</th>\n",
       "      <th>Gender</th>\n",
       "      <th>Detected City</th>\n",
       "      <th>Detected District</th>\n",
       "      <th>Detected State</th>\n",
       "      <th>State code</th>\n",
       "      <th>...</th>\n",
       "      <th>Status Change Date</th>\n",
       "      <th>Source_1</th>\n",
       "      <th>Source_2</th>\n",
       "      <th>Source_3</th>\n",
       "      <th>Backup Notes</th>\n",
       "      <th>Num Cases</th>\n",
       "      <th>Entry_ID</th>\n",
       "      <th>Date</th>\n",
       "      <th>Month</th>\n",
       "      <th>Year</th>\n",
       "    </tr>\n",
       "  </thead>\n",
       "  <tbody>\n",
       "    <tr>\n",
       "      <th>0</th>\n",
       "      <td>1.0</td>\n",
       "      <td>KL-TS-P1</td>\n",
       "      <td>30/01/2020</td>\n",
       "      <td>NaN</td>\n",
       "      <td>20</td>\n",
       "      <td>F</td>\n",
       "      <td>Thrissur</td>\n",
       "      <td>Thrissur</td>\n",
       "      <td>Kerala</td>\n",
       "      <td>KL</td>\n",
       "      <td>...</td>\n",
       "      <td>14/02/2020</td>\n",
       "      <td>https://twitter.com/vijayanpinarayi/status/122...</td>\n",
       "      <td>https://weather.com/en-IN/india/news/news/2020...</td>\n",
       "      <td>NaN</td>\n",
       "      <td>Student from Wuhan</td>\n",
       "      <td>1.0</td>\n",
       "      <td>NaN</td>\n",
       "      <td>30</td>\n",
       "      <td>01</td>\n",
       "      <td>2020</td>\n",
       "    </tr>\n",
       "    <tr>\n",
       "      <th>3</th>\n",
       "      <td>4.0</td>\n",
       "      <td>DL-P1</td>\n",
       "      <td>02/03/2020</td>\n",
       "      <td>NaN</td>\n",
       "      <td>45</td>\n",
       "      <td>M</td>\n",
       "      <td>East Delhi (Mayur Vihar)</td>\n",
       "      <td>East Delhi</td>\n",
       "      <td>Delhi</td>\n",
       "      <td>DL</td>\n",
       "      <td>...</td>\n",
       "      <td>15/03/2020</td>\n",
       "      <td>https://www.indiatoday.in/india/story/not-a-ja...</td>\n",
       "      <td>https://economictimes.indiatimes.com/news/poli...</td>\n",
       "      <td>NaN</td>\n",
       "      <td>Travel history to Italy and Austria</td>\n",
       "      <td>1.0</td>\n",
       "      <td>NaN</td>\n",
       "      <td>02</td>\n",
       "      <td>03</td>\n",
       "      <td>2020</td>\n",
       "    </tr>\n",
       "    <tr>\n",
       "      <th>4</th>\n",
       "      <td>5.0</td>\n",
       "      <td>TS-P1</td>\n",
       "      <td>02/03/2020</td>\n",
       "      <td>NaN</td>\n",
       "      <td>24</td>\n",
       "      <td>M</td>\n",
       "      <td>Hyderabad</td>\n",
       "      <td>Hyderabad</td>\n",
       "      <td>Telangana</td>\n",
       "      <td>TG</td>\n",
       "      <td>...</td>\n",
       "      <td>02/03/2020</td>\n",
       "      <td>https://www.deccanherald.com/national/south/qu...</td>\n",
       "      <td>https://www.indiatoday.in/india/story/coronavi...</td>\n",
       "      <td>https://www.thehindu.com/news/national/coronav...</td>\n",
       "      <td>Travel history to Dubai, Singapore contact</td>\n",
       "      <td>1.0</td>\n",
       "      <td>NaN</td>\n",
       "      <td>02</td>\n",
       "      <td>03</td>\n",
       "      <td>2020</td>\n",
       "    </tr>\n",
       "    <tr>\n",
       "      <th>5</th>\n",
       "      <td>6.0</td>\n",
       "      <td>NaN</td>\n",
       "      <td>03/03/2020</td>\n",
       "      <td>NaN</td>\n",
       "      <td>69</td>\n",
       "      <td>M</td>\n",
       "      <td>Jaipur</td>\n",
       "      <td>Italians</td>\n",
       "      <td>Rajasthan</td>\n",
       "      <td>RJ</td>\n",
       "      <td>...</td>\n",
       "      <td>03/03/2020</td>\n",
       "      <td>https://indianexpress.com/article/india/corona...</td>\n",
       "      <td>https://economictimes.indiatimes.com/news/poli...</td>\n",
       "      <td>https://twitter.com/PTI_News/status/1240878975...</td>\n",
       "      <td>Italian tourist</td>\n",
       "      <td>1.0</td>\n",
       "      <td>NaN</td>\n",
       "      <td>03</td>\n",
       "      <td>03</td>\n",
       "      <td>2020</td>\n",
       "    </tr>\n",
       "    <tr>\n",
       "      <th>6</th>\n",
       "      <td>7.0</td>\n",
       "      <td>NaN</td>\n",
       "      <td>04/03/2020</td>\n",
       "      <td>NaN</td>\n",
       "      <td>55</td>\n",
       "      <td>NaN</td>\n",
       "      <td>Gurugram</td>\n",
       "      <td>Italians</td>\n",
       "      <td>Haryana</td>\n",
       "      <td>HR</td>\n",
       "      <td>...</td>\n",
       "      <td>29/03/2020</td>\n",
       "      <td>https://indianexpress.com/article/india/corona...</td>\n",
       "      <td>https://www.indiatoday.in/india/story/coronavi...</td>\n",
       "      <td>NaN</td>\n",
       "      <td>Italian tourist</td>\n",
       "      <td>1.0</td>\n",
       "      <td>NaN</td>\n",
       "      <td>04</td>\n",
       "      <td>03</td>\n",
       "      <td>2020</td>\n",
       "    </tr>\n",
       "    <tr>\n",
       "      <th>...</th>\n",
       "      <td>...</td>\n",
       "      <td>...</td>\n",
       "      <td>...</td>\n",
       "      <td>...</td>\n",
       "      <td>...</td>\n",
       "      <td>...</td>\n",
       "      <td>...</td>\n",
       "      <td>...</td>\n",
       "      <td>...</td>\n",
       "      <td>...</td>\n",
       "      <td>...</td>\n",
       "      <td>...</td>\n",
       "      <td>...</td>\n",
       "      <td>...</td>\n",
       "      <td>...</td>\n",
       "      <td>...</td>\n",
       "      <td>...</td>\n",
       "      <td>...</td>\n",
       "      <td>...</td>\n",
       "      <td>...</td>\n",
       "      <td>...</td>\n",
       "    </tr>\n",
       "    <tr>\n",
       "      <th>26652</th>\n",
       "      <td>NaN</td>\n",
       "      <td>NaN</td>\n",
       "      <td>13/07/2020</td>\n",
       "      <td>NaN</td>\n",
       "      <td>60</td>\n",
       "      <td>M</td>\n",
       "      <td>Vasco</td>\n",
       "      <td>South Goa</td>\n",
       "      <td>Goa</td>\n",
       "      <td>GA</td>\n",
       "      <td>...</td>\n",
       "      <td>NaN</td>\n",
       "      <td>https://twitter.com/DHS_Goa/status/12827087390...</td>\n",
       "      <td>NaN</td>\n",
       "      <td>NaN</td>\n",
       "      <td>NaN</td>\n",
       "      <td>1.0</td>\n",
       "      <td>144312.0</td>\n",
       "      <td>13</td>\n",
       "      <td>07</td>\n",
       "      <td>2020</td>\n",
       "    </tr>\n",
       "    <tr>\n",
       "      <th>26653</th>\n",
       "      <td>NaN</td>\n",
       "      <td>NaN</td>\n",
       "      <td>13/07/2020</td>\n",
       "      <td>NaN</td>\n",
       "      <td>58</td>\n",
       "      <td>M</td>\n",
       "      <td>Chicalim</td>\n",
       "      <td>South Goa</td>\n",
       "      <td>Goa</td>\n",
       "      <td>GA</td>\n",
       "      <td>...</td>\n",
       "      <td>NaN</td>\n",
       "      <td>https://twitter.com/DHS_Goa/status/12827087390...</td>\n",
       "      <td>NaN</td>\n",
       "      <td>NaN</td>\n",
       "      <td>NaN</td>\n",
       "      <td>1.0</td>\n",
       "      <td>144313.0</td>\n",
       "      <td>13</td>\n",
       "      <td>07</td>\n",
       "      <td>2020</td>\n",
       "    </tr>\n",
       "    <tr>\n",
       "      <th>26727</th>\n",
       "      <td>NaN</td>\n",
       "      <td>NaN</td>\n",
       "      <td>13/07/2020</td>\n",
       "      <td>NaN</td>\n",
       "      <td>12</td>\n",
       "      <td>M</td>\n",
       "      <td>NaN</td>\n",
       "      <td>Aizawl</td>\n",
       "      <td>Mizoram</td>\n",
       "      <td>MZ</td>\n",
       "      <td>...</td>\n",
       "      <td>NaN</td>\n",
       "      <td>https://twitter.com/dipr_mizoram/status/128272...</td>\n",
       "      <td>NaN</td>\n",
       "      <td>NaN</td>\n",
       "      <td>NaN</td>\n",
       "      <td>1.0</td>\n",
       "      <td>144388.0</td>\n",
       "      <td>13</td>\n",
       "      <td>07</td>\n",
       "      <td>2020</td>\n",
       "    </tr>\n",
       "    <tr>\n",
       "      <th>26728</th>\n",
       "      <td>NaN</td>\n",
       "      <td>NaN</td>\n",
       "      <td>13/07/2020</td>\n",
       "      <td>NaN</td>\n",
       "      <td>29</td>\n",
       "      <td>M</td>\n",
       "      <td>NaN</td>\n",
       "      <td>Aizawl</td>\n",
       "      <td>Mizoram</td>\n",
       "      <td>MZ</td>\n",
       "      <td>...</td>\n",
       "      <td>NaN</td>\n",
       "      <td>https://twitter.com/dipr_mizoram/status/128272...</td>\n",
       "      <td>NaN</td>\n",
       "      <td>NaN</td>\n",
       "      <td>NaN</td>\n",
       "      <td>1.0</td>\n",
       "      <td>144389.0</td>\n",
       "      <td>13</td>\n",
       "      <td>07</td>\n",
       "      <td>2020</td>\n",
       "    </tr>\n",
       "    <tr>\n",
       "      <th>26839</th>\n",
       "      <td>NaN</td>\n",
       "      <td>NaN</td>\n",
       "      <td>13/07/2020</td>\n",
       "      <td>NaN</td>\n",
       "      <td>32</td>\n",
       "      <td>M</td>\n",
       "      <td>NaN</td>\n",
       "      <td>Papum Pare</td>\n",
       "      <td>Arunachal Pradesh</td>\n",
       "      <td>AR</td>\n",
       "      <td>...</td>\n",
       "      <td>NaN</td>\n",
       "      <td>https://twitter.com/ArunachalDIPR/status/12827...</td>\n",
       "      <td>NaN</td>\n",
       "      <td>NaN</td>\n",
       "      <td>NaN</td>\n",
       "      <td>1.0</td>\n",
       "      <td>144529.0</td>\n",
       "      <td>13</td>\n",
       "      <td>07</td>\n",
       "      <td>2020</td>\n",
       "    </tr>\n",
       "  </tbody>\n",
       "</table>\n",
       "<p>75317 rows × 25 columns</p>\n",
       "</div>"
      ],
      "text/plain": [
       "       Patient Number State Patient Number Date Announced  \\\n",
       "0                 1.0             KL-TS-P1     30/01/2020   \n",
       "3                 4.0                DL-P1     02/03/2020   \n",
       "4                 5.0                TS-P1     02/03/2020   \n",
       "5                 6.0                  NaN     03/03/2020   \n",
       "6                 7.0                  NaN     04/03/2020   \n",
       "...               ...                  ...            ...   \n",
       "26652             NaN                  NaN     13/07/2020   \n",
       "26653             NaN                  NaN     13/07/2020   \n",
       "26727             NaN                  NaN     13/07/2020   \n",
       "26728             NaN                  NaN     13/07/2020   \n",
       "26839             NaN                  NaN     13/07/2020   \n",
       "\n",
       "       Estimated Onset Date Age Bracket Gender             Detected City  \\\n",
       "0                       NaN          20      F                  Thrissur   \n",
       "3                       NaN          45      M  East Delhi (Mayur Vihar)   \n",
       "4                       NaN          24      M                 Hyderabad   \n",
       "5                       NaN          69      M                    Jaipur   \n",
       "6                       NaN          55    NaN                  Gurugram   \n",
       "...                     ...         ...    ...                       ...   \n",
       "26652                   NaN          60      M                     Vasco   \n",
       "26653                   NaN          58      M                  Chicalim   \n",
       "26727                   NaN          12      M                       NaN   \n",
       "26728                   NaN          29      M                       NaN   \n",
       "26839                   NaN          32      M                       NaN   \n",
       "\n",
       "      Detected District     Detected State State code  ... Status Change Date  \\\n",
       "0              Thrissur             Kerala         KL  ...         14/02/2020   \n",
       "3            East Delhi              Delhi         DL  ...         15/03/2020   \n",
       "4             Hyderabad          Telangana         TG  ...         02/03/2020   \n",
       "5              Italians          Rajasthan         RJ  ...         03/03/2020   \n",
       "6              Italians            Haryana         HR  ...         29/03/2020   \n",
       "...                 ...                ...        ...  ...                ...   \n",
       "26652         South Goa                Goa         GA  ...                NaN   \n",
       "26653         South Goa                Goa         GA  ...                NaN   \n",
       "26727            Aizawl            Mizoram         MZ  ...                NaN   \n",
       "26728            Aizawl            Mizoram         MZ  ...                NaN   \n",
       "26839        Papum Pare  Arunachal Pradesh         AR  ...                NaN   \n",
       "\n",
       "                                                Source_1  \\\n",
       "0      https://twitter.com/vijayanpinarayi/status/122...   \n",
       "3      https://www.indiatoday.in/india/story/not-a-ja...   \n",
       "4      https://www.deccanherald.com/national/south/qu...   \n",
       "5      https://indianexpress.com/article/india/corona...   \n",
       "6      https://indianexpress.com/article/india/corona...   \n",
       "...                                                  ...   \n",
       "26652  https://twitter.com/DHS_Goa/status/12827087390...   \n",
       "26653  https://twitter.com/DHS_Goa/status/12827087390...   \n",
       "26727  https://twitter.com/dipr_mizoram/status/128272...   \n",
       "26728  https://twitter.com/dipr_mizoram/status/128272...   \n",
       "26839  https://twitter.com/ArunachalDIPR/status/12827...   \n",
       "\n",
       "                                                Source_2  \\\n",
       "0      https://weather.com/en-IN/india/news/news/2020...   \n",
       "3      https://economictimes.indiatimes.com/news/poli...   \n",
       "4      https://www.indiatoday.in/india/story/coronavi...   \n",
       "5      https://economictimes.indiatimes.com/news/poli...   \n",
       "6      https://www.indiatoday.in/india/story/coronavi...   \n",
       "...                                                  ...   \n",
       "26652                                                NaN   \n",
       "26653                                                NaN   \n",
       "26727                                                NaN   \n",
       "26728                                                NaN   \n",
       "26839                                                NaN   \n",
       "\n",
       "                                                Source_3  \\\n",
       "0                                                    NaN   \n",
       "3                                                    NaN   \n",
       "4      https://www.thehindu.com/news/national/coronav...   \n",
       "5      https://twitter.com/PTI_News/status/1240878975...   \n",
       "6                                                    NaN   \n",
       "...                                                  ...   \n",
       "26652                                                NaN   \n",
       "26653                                                NaN   \n",
       "26727                                                NaN   \n",
       "26728                                                NaN   \n",
       "26839                                                NaN   \n",
       "\n",
       "                                     Backup Notes Num Cases  Entry_ID Date  \\\n",
       "0                              Student from Wuhan       1.0       NaN   30   \n",
       "3             Travel history to Italy and Austria       1.0       NaN   02   \n",
       "4      Travel history to Dubai, Singapore contact       1.0       NaN   02   \n",
       "5                                 Italian tourist       1.0       NaN   03   \n",
       "6                                 Italian tourist       1.0       NaN   04   \n",
       "...                                           ...       ...       ...  ...   \n",
       "26652                                         NaN       1.0  144312.0   13   \n",
       "26653                                         NaN       1.0  144313.0   13   \n",
       "26727                                         NaN       1.0  144388.0   13   \n",
       "26728                                         NaN       1.0  144389.0   13   \n",
       "26839                                         NaN       1.0  144529.0   13   \n",
       "\n",
       "      Month  Year  \n",
       "0        01  2020  \n",
       "3        03  2020  \n",
       "4        03  2020  \n",
       "5        03  2020  \n",
       "6        03  2020  \n",
       "...     ...   ...  \n",
       "26652    07  2020  \n",
       "26653    07  2020  \n",
       "26727    07  2020  \n",
       "26728    07  2020  \n",
       "26839    07  2020  \n",
       "\n",
       "[75317 rows x 25 columns]"
      ]
     },
     "execution_count": 57,
     "metadata": {},
     "output_type": "execute_result"
    }
   ],
   "source": [
    "df"
   ]
  },
  {
   "cell_type": "code",
   "execution_count": 91,
   "metadata": {},
   "outputs": [],
   "source": [
    "bins =[0,10,20,30,40,50,60,70,80,90,100,110,120]\n",
    "age = df['Age Bracket'].astype(float)\n",
    "med = df['Age Bracket'].median()"
   ]
  },
  {
   "cell_type": "code",
   "execution_count": 108,
   "metadata": {},
   "outputs": [
    {
     "data": {
      "text/plain": [
       "(array([3.4360e+03, 5.8250e+03, 1.7365e+04, 1.7121e+04, 1.3272e+04,\n",
       "        9.8530e+03, 5.5740e+03, 2.1680e+03, 6.2200e+02, 8.0000e+01,\n",
       "        1.0000e+00, 0.0000e+00]),\n",
       " array([  0,  10,  20,  30,  40,  50,  60,  70,  80,  90, 100, 110, 120]),\n",
       " <a list of 12 Patch objects>)"
      ]
     },
     "execution_count": 108,
     "metadata": {},
     "output_type": "execute_result"
    },
    {
     "data": {
      "image/png": "[encoded data removed]",
      "text/plain": [
       "<Figure size 432x288 with 1 Axes>"
      ]
     },
     "metadata": {
      "needs_background": "light"
     },
     "output_type": "display_data"
    }
   ],
   "source": [
    "plt.hist(age, bins = bins, edgecolor = 'black',color ='pink',  log = False)"
   ]
  },
  {
   "cell_type": "code",
   "execution_count": null,
   "metadata": {},
   "outputs": [],
   "source": [
    "\n"
   ]
  },
  {
   "cell_type": "code",
   "execution_count": null,
   "metadata": {},
   "outputs": [],
   "source": []
  }
 ],
 "metadata": {
  "kernelspec": {
   "display_name": "Python 3",
   "language": "python",
   "name": "python3"
  },
  "language_info": {
   "codemirror_mode": {
    "name": "ipython",
    "version": 3
   },
   "file_extension": ".py",
   "mimetype": "text/x-python",
   "name": "python",
   "nbconvert_exporter": "python",
   "pygments_lexer": "ipython3",
   "version": "3.7.6"
  }
 },
 "nbformat": 4,
 "nbformat_minor": 4
}
